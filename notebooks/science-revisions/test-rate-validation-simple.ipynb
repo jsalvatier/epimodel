{
 "cells": [
  {
   "cell_type": "code",
   "execution_count": 1,
   "metadata": {},
   "outputs": [
    {
     "name": "stdout",
     "output_type": "stream",
     "text": [
      "Set Theano Environmental Variables for Parallelisation\n"
     ]
    }
   ],
   "source": [
    "from epimodel import EpidemiologicalParameters, DefaultModel, preprocess_data\n",
    "from epimodel.preprocessing.preprocessed_data import PreprocessedData\n",
    "from epimodel.pymc3_models.base_model import produce_CIs\n",
    "import numpy as np\n",
    "import pymc3 as pm\n",
    "from pymc3.distributions import draw_values, generate_samples\n",
    "\n",
    "import pandas as pd \n",
    "import pickle "
   ]
  },
  {
   "cell_type": "code",
   "execution_count": 2,
   "metadata": {},
   "outputs": [
    {
     "name": "stdout",
     "output_type": "stream",
     "text": [
      "Populating the interactive namespace from numpy and matplotlib\n"
     ]
    },
    {
     "name": "stderr",
     "output_type": "stream",
     "text": [
      "/Users/jsalvatier/Library/Caches/pypoetry/virtualenvs/epimodel-Y5DpXmSQ-py3.8/lib/python3.8/site-packages/IPython/core/magics/pylab.py:159: UserWarning: pylab import has clobbered these variables: ['plt']\n",
      "`%matplotlib` prevents importing * from pylab and numpy\n",
      "  warn(\"pylab import has clobbered these variables: %s\"  % clobbered +\n"
     ]
    }
   ],
   "source": [
    "import pylab as plt\n",
    "#%pylab inline "
   ]
  },
  {
   "cell_type": "code",
   "execution_count": 4,
   "metadata": {},
   "outputs": [
    {
     "name": "stdout",
     "output_type": "stream",
     "text": [
      "Dropping NPI Travel Screen/Quarantine\n",
      "Dropping NPI Travel Bans\n",
      "Dropping NPI Public Transport Limited\n",
      "Dropping NPI Internal Movement Limited\n",
      "Dropping NPI Public Information Campaigns\n",
      "Dropping NPI Symptomatic Testing\n",
      "Masking invalid values\n"
     ]
    }
   ],
   "source": [
    "data = preprocess_data('../double-entry-data/double_entry_final.csv', last_day='2020-05-30', smoothing=1)\n",
    "data.mask_reopenings(print_out = False)"
   ]
  },
  {
   "cell_type": "code",
   "execution_count": 5,
   "metadata": {},
   "outputs": [],
   "source": [
    "ep = EpidemiologicalParameters()"
   ]
  },
  {
   "cell_type": "code",
   "execution_count": 6,
   "metadata": {},
   "outputs": [],
   "source": [
    "with DefaultModel(data) as model_syn:\n",
    "    model_syn.build_model(**ep.get_model_build_dict())"
   ]
  },
  {
   "cell_type": "code",
   "execution_count": 47,
   "metadata": {},
   "outputs": [],
   "source": [
    "with model_syn: \n",
    "    \n",
    "    point = {\n",
    "        'CM_Alpha' : np.array([.0,.05,.1,.15,.2,.25,.3,.35,.4]),\n",
    "        'InitialSizeCases_log' : -10 *np.ones((41,1)), \n",
    "        'InitialSizeDeaths_log' : -10 *np.ones((41,1)), \n",
    "        #'RegionLogR_noise' : .1*np.ones(41),\n",
    "        'HyperRVar' : 1\n",
    "    }\n",
    "    c = [model_syn.GrowthCases, \n",
    "         model_syn.GrowthDeaths, \n",
    "         model_syn.RegionR, \n",
    "         model_syn.ObservedCases, \n",
    "         model_syn.ObservedDeaths, \n",
    "         model_syn.RegionLogR_noise, \n",
    "         model_syn.InfectedCases ,\n",
    "         model_syn.InfectedDeaths ,\n",
    "         model_syn.ExpectedCases ,\n",
    "         model_syn.ExpectedDeaths ]\n",
    "    \n",
    "    synthvalues = draw_values(c, point=point)\n",
    "    gcases,gdeaths, regionR, ocases, odeaths, regionRnoise,icases,ideaths,ecases, edeaths = synthvalues\n",
    "    "
   ]
  },
  {
   "cell_type": "code",
   "execution_count": 8,
   "metadata": {},
   "outputs": [],
   "source": [
    "with open(\"synthetic_values_simple.pkl\", 'wb+') as f:\n",
    "    pickle.dump(synthvalues, f, pickle.HIGHEST_PROTOCOL)"
   ]
  },
  {
   "cell_type": "code",
   "execution_count": 49,
   "metadata": {},
   "outputs": [],
   "source": [
    "def synthetic_prep_data(model, data, syn_deaths, syn_cases):\n",
    "    \n",
    "    def reverse_shape(synth, indexes, mask):\n",
    "        a = np.zeros(model.nRs * model.nDs)\n",
    "        a[indexes] += synth\n",
    "        a = a.reshape((model.nRs, model.nDs))\n",
    "        a = np.ma.masked_array(a, mask)\n",
    "        return a\n",
    "\n",
    "    \n",
    "    syntheticNewDeaths = reverse_shape(syn_deaths, \n",
    "                                       model.all_observed_deaths,  \n",
    "                                       data.NewDeaths.mask)\n",
    "    syntheticNewCases = reverse_shape(syn_cases, \n",
    "                              model.all_observed_active,  \n",
    "                              data.NewCases.mask)\n",
    "    \n",
    "    return PreprocessedData(\n",
    "                 data.Active,\n",
    "                 data.Confirmed,\n",
    "                 data.ActiveCMs,\n",
    "                 data.CMs,\n",
    "                 data.Rs,\n",
    "                 data.Ds,\n",
    "                 data.Deaths,\n",
    "                 syntheticNewDeaths,\n",
    "                 syntheticNewCases,\n",
    "                 data.RNames)\n",
    "\n",
    "\n"
   ]
  },
  {
   "cell_type": "code",
   "execution_count": 10,
   "metadata": {},
   "outputs": [],
   "source": [
    "adjustment = np.array([ np.random.choice([.5, 2]) for i in range(model_syn.nRs)])"
   ]
  },
  {
   "cell_type": "code",
   "execution_count": 11,
   "metadata": {},
   "outputs": [],
   "source": [
    "synth_data_normal = synthetic_prep_data(model_syn, data, odeaths, ocases)\n",
    "synth_data_adjusted = synthetic_prep_data(model_syn, data, odeaths, ocases)\n",
    "synth_data_adjusted.NewCases  = synth_data_adjusted.NewCases * adjustment[:, None]"
   ]
  },
  {
   "cell_type": "code",
   "execution_count": 35,
   "metadata": {},
   "outputs": [
    {
     "data": {
      "text/plain": [
       "[CM_Alpha,\n",
       " HyperRVar_log__,\n",
       " RegionLogR_noise,\n",
       " GI_mean,\n",
       " GI_sd,\n",
       " PsiCases_log__,\n",
       " PsiDeaths_log__,\n",
       " InitialSizeCases_log,\n",
       " CasesDelayMean,\n",
       " CasesDelayDisp,\n",
       " InitialSizeDeaths_log,\n",
       " DeathsDelayMean,\n",
       " DeathsDelayDisp]"
      ]
     },
     "execution_count": 35,
     "metadata": {},
     "output_type": "execute_result"
    }
   ],
   "source": [
    "v = model_normal.vars.copy()\n",
    "v.remove(model_normal.GrowthCasesNoise)\n",
    "v.remove(model_normal.GrowthDeathsNoise)\n",
    "v"
   ]
  },
  {
   "cell_type": "code",
   "execution_count": 34,
   "metadata": {},
   "outputs": [],
   "source": [
    "with DefaultModel(synth_data_normal) as model_normal:\n",
    "    model_normal.build_model(**ep.get_model_build_dict())"
   ]
  },
  {
   "cell_type": "code",
   "execution_count": 13,
   "metadata": {},
   "outputs": [
    {
     "name": "stderr",
     "output_type": "stream",
     "text": [
      "Only 200 samples in chain.\n",
      "Auto-assigning NUTS sampler...\n",
      "Initializing NUTS using jitter+adapt_diag...\n",
      "Sequential sampling (1 chains in 1 job)\n",
      "NUTS: [DeathsDelayDisp, DeathsDelayMean, InitialSizeDeaths_log, CasesDelayDisp, CasesDelayMean, InitialSizeCases_log, PsiDeaths, PsiCases, GrowthDeathsNoise, GrowthCasesNoise, GI_sd, GI_mean, RegionLogR_noise, HyperRVar, CM_Alpha]\n"
     ]
    },
    {
     "data": {
      "text/html": [
       "\n",
       "    <div>\n",
       "        <style>\n",
       "            /* Turns off some styling */\n",
       "            progress {\n",
       "                /* gets rid of default border in Firefox and Opera. */\n",
       "                border: none;\n",
       "                /* Needs to be in here for Safari polyfill so background images work as expected. */\n",
       "                background-size: auto;\n",
       "            }\n",
       "            .progress-bar-interrupted, .progress-bar-interrupted::-webkit-progress-bar {\n",
       "                background: #F44336;\n",
       "            }\n",
       "        </style>\n",
       "      <progress value='250' class='' max='250' style='width:300px; height:20px; vertical-align: middle;'></progress>\n",
       "      100.00% [250/250 19:38<00:00 Sampling chain 0, 0 divergences]\n",
       "    </div>\n",
       "    "
      ],
      "text/plain": [
       "<IPython.core.display.HTML object>"
      ]
     },
     "metadata": {},
     "output_type": "display_data"
    },
    {
     "name": "stderr",
     "output_type": "stream",
     "text": [
      "Sampling 1 chain for 50 tune and 200 draw iterations (50 + 200 draws total) took 1178 seconds.\n",
      "Only one chain was sampled, this makes it impossible to run some convergence checks\n"
     ]
    }
   ],
   "source": [
    "with model_normal:\n",
    "    model_normal.trace = pm.sample(200, tune=50, cores=1, chains=1, max_treedepth=12, target_accept=0.925, trace=keepvars)\n",
    "    pm.save_trace(model_normal.trace, \"normal_simple\", overwrite=True)"
   ]
  },
  {
   "cell_type": "code",
   "execution_count": 14,
   "metadata": {},
   "outputs": [],
   "source": [
    "with DefaultModel(synth_data_adjusted) as model_adjusted:\n",
    "    model_adjusted.build_model(**ep.get_model_build_dict())"
   ]
  },
  {
   "cell_type": "code",
   "execution_count": 15,
   "metadata": {},
   "outputs": [
    {
     "name": "stderr",
     "output_type": "stream",
     "text": [
      "Only 200 samples in chain.\n",
      "Auto-assigning NUTS sampler...\n",
      "Initializing NUTS using jitter+adapt_diag...\n",
      "Sequential sampling (1 chains in 1 job)\n",
      "NUTS: [DeathsDelayDisp, DeathsDelayMean, InitialSizeDeaths_log, CasesDelayDisp, CasesDelayMean, InitialSizeCases_log, PsiDeaths, PsiCases, GrowthDeathsNoise, GrowthCasesNoise, GI_sd, GI_mean, RegionLogR_noise, HyperRVar, CM_Alpha]\n"
     ]
    },
    {
     "data": {
      "text/html": [
       "\n",
       "    <div>\n",
       "        <style>\n",
       "            /* Turns off some styling */\n",
       "            progress {\n",
       "                /* gets rid of default border in Firefox and Opera. */\n",
       "                border: none;\n",
       "                /* Needs to be in here for Safari polyfill so background images work as expected. */\n",
       "                background-size: auto;\n",
       "            }\n",
       "            .progress-bar-interrupted, .progress-bar-interrupted::-webkit-progress-bar {\n",
       "                background: #F44336;\n",
       "            }\n",
       "        </style>\n",
       "      <progress value='250' class='' max='250' style='width:300px; height:20px; vertical-align: middle;'></progress>\n",
       "      100.00% [250/250 10:11<00:00 Sampling chain 0, 1 divergences]\n",
       "    </div>\n",
       "    "
      ],
      "text/plain": [
       "<IPython.core.display.HTML object>"
      ]
     },
     "metadata": {},
     "output_type": "display_data"
    },
    {
     "name": "stderr",
     "output_type": "stream",
     "text": [
      "Sampling 1 chain for 50 tune and 200 draw iterations (50 + 200 draws total) took 611 seconds.\n",
      "There was 1 divergence after tuning. Increase `target_accept` or reparameterize.\n",
      "Only one chain was sampled, this makes it impossible to run some convergence checks\n"
     ]
    }
   ],
   "source": [
    "with model_adjusted:\n",
    "    model_adjusted.trace = pm.sample(200, tune=50, cores=1, chains=1, max_treedepth=12, target_accept=0.925, trace=keepvars)\n",
    "    pm.save_trace(model_adjusted.trace, \"adjusted_simple\", overwrite=True)"
   ]
  },
  {
   "cell_type": "code",
   "execution_count": 57,
   "metadata": {},
   "outputs": [],
   "source": [
    "from epimodel.pymc3_models.base_model import produce_CIs\n",
    "\n",
    "def plot_effect(trace):  \n",
    "        if hasattr(trace, \"points\"):\n",
    "            trace = trace[\"CMReduction\"]\n",
    "        means, li, ui, lq, uq = produce_CIs(100 * trace)\n",
    "\n",
    "        N_cms = means.size\n",
    "\n",
    "        plt.plot([0, 0], [1, -(N_cms)], \"--r\", linewidth=0.5)\n",
    "        y_vals = -1 * np.arange(N_cms)\n",
    "        plt.scatter(means, y_vals, marker=\"|\", color=\"k\")\n",
    "        for cm in range(N_cms):\n",
    "            plt.plot([li[cm], ui[cm]], [y_vals[cm], y_vals[cm]], \"k\", alpha=0.25)\n",
    "            plt.plot([lq[cm], uq[cm]], [y_vals[cm], y_vals[cm]], \"k\", alpha=0.5)\n",
    "\n",
    "        plt.xlim([-100, 150])\n",
    "        xtick_vals = np.arange(-100, 150, 50)\n",
    "        xtick_str = [f\"{x:.0f}%\" for x in xtick_vals]\n",
    "        plt.ylim([-(N_cms - 0.5), 0.5])\n",
    "\n",
    "#plot_effect(model_normal.trace)\n",
    "#plot_effect(model_adjusted.trace)"
   ]
  },
  {
   "cell_type": "code",
   "execution_count": 59,
   "metadata": {},
   "outputs": [],
   "source": [
    "with model_normal:\n",
    "    nst = pm.load_trace(\"../../nonsynth_normal_simple\")"
   ]
  },
  {
   "cell_type": "code",
   "execution_count": 60,
   "metadata": {},
   "outputs": [],
   "source": [
    "with model_adjusted:\n",
    "    ast = pm.load_trace(\"../../nonsynth_adjusted_simple\")"
   ]
  },
  {
   "cell_type": "code",
   "execution_count": 61,
   "metadata": {},
   "outputs": [
    {
     "data": {
      "image/png": "[encoded data removed]",
      "text/plain": [
       "<Figure size 1200x900 with 1 Axes>"
      ]
     },
     "metadata": {
      "needs_background": "light"
     },
     "output_type": "display_data"
    }
   ],
   "source": [
    "plt.figure(figsize=(4, 3), dpi=300)\n",
    "plot_effect(nst['CM_Alpha'])\n",
    "plot_effect(ast['CM_Alpha'])"
   ]
  },
  {
   "cell_type": "code",
   "execution_count": null,
   "metadata": {},
   "outputs": [],
   "source": [
    "nst['CM_Alpha']"
   ]
  }
 ],
 "metadata": {
  "kernelspec": {
   "display_name": "Python 3",
   "language": "python",
   "name": "python3"
  },
  "language_info": {
   "codemirror_mode": {
    "name": "ipython",
    "version": 3
   },
   "file_extension": ".py",
   "mimetype": "text/x-python",
   "name": "python",
   "nbconvert_exporter": "python",
   "pygments_lexer": "ipython3",
   "version": "3.8.2"
  }
 },
 "nbformat": 4,
 "nbformat_minor": 4
}
