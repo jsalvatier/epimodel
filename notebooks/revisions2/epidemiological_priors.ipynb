{
 "cells": [
  {
   "cell_type": "code",
   "execution_count": 83,
   "metadata": {},
   "outputs": [
    {
     "name": "stdout",
     "output_type": "stream",
     "text": [
      "The autoreload extension is already loaded. To reload it, use:\n",
      "  %reload_ext autoreload\n"
     ]
    }
   ],
   "source": [
    "%load_ext autoreload\n",
    "%autoreload 2\n",
    "\n",
    "from tqdm import tqdm"
   ]
  },
  {
   "cell_type": "code",
   "execution_count": 85,
   "metadata": {},
   "outputs": [],
   "source": [
    "from epimodel.pymc3_models.epi_params import bootstrapped_negbinom_values, ci_to_mean_sd\n",
    "\n",
    "import numpy as np\n",
    "import matplotlib.pyplot as plt\n",
    "import matplotlib\n",
    "\n",
    "%matplotlib inline"
   ]
  },
  {
   "cell_type": "markdown",
   "metadata": {},
   "source": [
    "# infected to reporting"
   ]
  },
  {
   "cell_type": "code",
   "execution_count": 170,
   "metadata": {},
   "outputs": [],
   "source": [
    "symptom_reporting = {\n",
    "    'mean_mean': 5.82,\n",
    "    'mean_sd': 0.68,\n",
    "    'disp_mean': 1.57,\n",
    "    'disp_sd': 0.054,\n",
    "    'source': 'Cereda et al, https://arxiv.org/ftp/arxiv/papers/2003/2003.09320.pdf, §3'\n",
    "              'Fonfria et al, https://www.medrxiv.org/content/medrxiv/early/2020/06/19/2020.06.17.20133587',\n",
    "    'dist': 'negbinom',\n",
    "    'notes': 'mean from Fronfria et al. Dispersions from Cereda et al.'\n",
    "}\n",
    "\n",
    "symptom_deaths = {\n",
    "    'mean_mean': 16.71,\n",
    "    'mean_sd': 0.75,\n",
    "    'sd_mean': 6.9,\n",
    "    'sd_sd': 1.122,\n",
    "    'source': 'Linton et al'\n",
    "              'Fonfria et al, https://www.medrxiv.org/content/medrxiv/early/2020/06/19/2020.06.17.20133587',\n",
    "    'dist': 'gamma',\n",
    "    'notes': 'Mean from Fronfria et al. Sd from Linton et al'\n",
    "}"
   ]
  },
  {
   "cell_type": "code",
   "execution_count": null,
   "metadata": {},
   "outputs": [],
   "source": []
  },
  {
   "cell_type": "code",
   "execution_count": 97,
   "metadata": {},
   "outputs": [],
   "source": [
    "import scipy.stats as stats"
   ]
  },
  {
   "cell_type": "code",
   "execution_count": 98,
   "metadata": {},
   "outputs": [],
   "source": [
    "w = stats.weibull_min(c=2.82)"
   ]
  },
  {
   "cell_type": "code",
   "execution_count": 100,
   "metadata": {},
   "outputs": [
    {
     "data": {
      "text/plain": [
       "5.045779873608356"
      ]
     },
     "execution_count": 100,
     "metadata": {},
     "output_type": "execute_result"
    }
   ],
   "source": [
    "5.665 * w.mean()"
   ]
  },
  {
   "cell_type": "code",
   "execution_count": 104,
   "metadata": {},
   "outputs": [
    {
     "data": {
      "text/plain": [
       "(2.826, 0.9561400182768016)"
      ]
     },
     "execution_count": 104,
     "metadata": {},
     "output_type": "execute_result"
    }
   ],
   "source": [
    "ci_to_mean_sd(2.826, np.array([1.75, 4.7]))"
   ]
  },
  {
   "cell_type": "code",
   "execution_count": 105,
   "metadata": {},
   "outputs": [
    {
     "data": {
      "text/plain": [
       "(5.665, 0.6301136193019478)"
      ]
     },
     "execution_count": 105,
     "metadata": {},
     "output_type": "execute_result"
    }
   ],
   "source": [
    "ci_to_mean_sd(5.665, np.array([4.7, 6.9]))"
   ]
  },
  {
   "cell_type": "code",
   "execution_count": 101,
   "metadata": {},
   "outputs": [
    {
     "data": {
      "text/plain": [
       "1.9384141921884563"
      ]
     },
     "execution_count": 101,
     "metadata": {},
     "output_type": "execute_result"
    }
   ],
   "source": [
    "5.665 * w.std()"
   ]
  },
  {
   "cell_type": "code",
   "execution_count": 138,
   "metadata": {},
   "outputs": [
    {
     "name": "stderr",
     "output_type": "stream",
     "text": [
      "100%|██████████| 2500/2500 [00:02<00:00, 1194.55it/s]"
     ]
    },
    {
     "name": "stdout",
     "output_type": "stream",
     "text": [
      "5.203199686328215\n",
      "0.5761618010494474\n",
      "1.88764123760679\n",
      "0.5016005756215961\n"
     ]
    },
    {
     "name": "stderr",
     "output_type": "stream",
     "text": [
      "\n"
     ]
    }
   ],
   "source": [
    "nRVs = 2500\n",
    "\n",
    "ms = np.zeros(nRVs)\n",
    "sds = np.zeros(nRVs)\n",
    "\n",
    "for i in tqdm(range(nRVs)):\n",
    "    shape = np.random.uniform(1.75, 4.7)\n",
    "    scale = np.random.uniform(4.7, 6.9)\n",
    "#     shape=  max(np.random.normal(loc=2.926, scale=0.96), 1.5)\n",
    "#     scale = max(np.random.normal(loc=5.665, scale=0.63), 3)\n",
    "    w = stats.weibull_min(c=shape)\n",
    "    ms[i] = scale * w.mean()\n",
    "    sds[i] = scale * w.std()\n",
    "\n",
    "print(np.mean(ms))\n",
    "print(np.std(ms))   \n",
    "print(np.mean(sds))\n",
    "print(np.std(sds))"
   ]
  },
  {
   "cell_type": "code",
   "execution_count": 149,
   "metadata": {},
   "outputs": [],
   "source": [
    "ci_data = np.loadtxt('ci_data.csv', delimiter=',', skiprows=1, usecols=[1, 2, 4])"
   ]
  },
  {
   "cell_type": "code",
   "execution_count": 154,
   "metadata": {},
   "outputs": [],
   "source": [
    "means = np.exp(ci_data[:, 0]) / np.exp(ci_data[:, 1])\n",
    "sigmas = np.exp(0.5*ci_data[:, 0]) / np.exp(ci_data[:, 1])\n",
    "\n",
    "nLogL = ci_data[:, 2]"
   ]
  },
  {
   "cell_type": "code",
   "execution_count": 161,
   "metadata": {},
   "outputs": [
    {
     "data": {
      "text/plain": [
       "array([False, False, False, ..., False, False, False])"
      ]
     },
     "execution_count": 161,
     "metadata": {},
     "output_type": "execute_result"
    }
   ],
   "source": [
    "nLogL < 3.84"
   ]
  },
  {
   "cell_type": "code",
   "execution_count": 163,
   "metadata": {},
   "outputs": [
    {
     "data": {
      "text/plain": [
       "1.5246482446412195"
      ]
     },
     "execution_count": 163,
     "metadata": {},
     "output_type": "execute_result"
    }
   ],
   "source": [
    "np.min(sigmas[nLogL < 3.84])"
   ]
  },
  {
   "cell_type": "code",
   "execution_count": 164,
   "metadata": {},
   "outputs": [
    {
     "data": {
      "text/plain": [
       "3.082620803862864"
      ]
     },
     "execution_count": 164,
     "metadata": {},
     "output_type": "execute_result"
    }
   ],
   "source": [
    "np.max(sigmas[nLogL < 3.84])"
   ]
  },
  {
   "cell_type": "code",
   "execution_count": 167,
   "metadata": {},
   "outputs": [],
   "source": [
    "sd_middle = 2.11"
   ]
  },
  {
   "cell_type": "code",
   "execution_count": 169,
   "metadata": {},
   "outputs": [
    {
     "data": {
      "text/plain": [
       "(2.11, 0.5000091877861609)"
      ]
     },
     "execution_count": 169,
     "metadata": {},
     "output_type": "execute_result"
    }
   ],
   "source": [
    "ci_to_mean_sd(2.11, np.array([1.525, 3.09]))"
   ]
  },
  {
   "cell_type": "code",
   "execution_count": 165,
   "metadata": {},
   "outputs": [
    {
     "data": {
      "text/plain": [
       "4.223214285714279"
      ]
     },
     "execution_count": 165,
     "metadata": {},
     "output_type": "execute_result"
    }
   ],
   "source": [
    "np.min(means[nLogL < 3.84])"
   ]
  },
  {
   "cell_type": "code",
   "execution_count": 166,
   "metadata": {},
   "outputs": [
    {
     "data": {
      "text/plain": [
       "5.964285714285696"
      ]
     },
     "execution_count": 166,
     "metadata": {},
     "output_type": "execute_result"
    }
   ],
   "source": [
    "np.max(means[nLogL < 3.84])"
   ]
  },
  {
   "cell_type": "code",
   "execution_count": 125,
   "metadata": {},
   "outputs": [
    {
     "data": {
      "text/plain": [
       "[<matplotlib.lines.Line2D at 0x137e14100>]"
      ]
     },
     "execution_count": 125,
     "metadata": {},
     "output_type": "execute_result"
    },
    {
     "data": {
      "image/png": "[encoded data removed]",
      "text/plain": [
       "<Figure size 432x288 with 1 Axes>"
      ]
     },
     "metadata": {},
     "output_type": "display_data"
    }
   ],
   "source": [
    "plt.plot(ms)"
   ]
  },
  {
   "cell_type": "code",
   "execution_count": 76,
   "metadata": {},
   "outputs": [
    {
     "name": "stderr",
     "output_type": "stream",
     "text": [
      "100%|██████████| 51/51 [14:05<00:00, 16.58s/it]"
     ]
    },
    {
     "name": "stdout",
     "output_type": "stream",
     "text": [
      "Best solution: [1.53  0.051]\n"
     ]
    },
    {
     "name": "stderr",
     "output_type": "stream",
     "text": [
      "\n"
     ]
    }
   ],
   "source": [
    "ms = np.linspace(1.5, 1.55, 51)\n",
    "sds = np.linspace(0.05, 0.1, 51)\n",
    "\n",
    "nRVs = int(1e7)\n",
    "\n",
    "noise_mean = np.random.normal(0, 1, size=nRVs)\n",
    "noise_sd = np.random.normal(0, 1, size=nRVs)\n",
    "\n",
    "min_sd = 100\n",
    "best_sol = np.array([0., 0.])\n",
    "tol = 0.01\n",
    "\n",
    "sd_mean = 0.418\n",
    "sd_sd = 0.0759\n",
    "\n",
    "for mean_mean in tqdm(ms.tolist()):\n",
    "    for mean_sd in sds:\n",
    "        log_mean = mean_mean + noise_mean * mean_sd\n",
    "        log_sd = sd_mean + noise_sd * sd_sd\n",
    "        means = np.exp(log_mean + 0.5 * log_sd ** 2)\n",
    "        m = np.mean(means)\n",
    "        l = np.percentile(means, 2.5)\n",
    "        u = np.percentile(means, 97.5)\n",
    "        if np.abs(m - 5.06) < tol:\n",
    "            if l < 5.06 and u > 5.7:\n",
    "                if mean_sd < min_sd:\n",
    "                    min_sd = mean_sd\n",
    "                    best_sol[0] = mean_mean\n",
    "                    best_sol[1] = mean_sd\n",
    "print(f'Best solution: {best_sol}')"
   ]
  },
  {
   "cell_type": "code",
   "execution_count": 90,
   "metadata": {},
   "outputs": [],
   "source": [
    "# final \n",
    "incubation_period = {\n",
    "                'mean_mean': 1.53,\n",
    "                'mean_sd': 0.051,\n",
    "                'sd_mean': 0.418,\n",
    "                'sd_sd': 0.0759,\n",
    "                'source': 'Lauer et al, doi.org/10.7326/M20-0504'\n",
    "                          'Fonfria et al, https://www.medrxiv.org/content/medrxiv/early/2020/06/19/2020.06.17.20133587',\n",
    "                'dist': 'lognorm',\n",
    "                'notes': 'mean_mean, mean_sd chosen from Fonfria et al, after fitting using Lauer values.'\n",
    "                         '(log) sd, sd_sd taken from Lauer et al.'\n",
    "            }"
   ]
  },
  {
   "cell_type": "code",
   "execution_count": 96,
   "metadata": {},
   "outputs": [
    {
     "name": "stderr",
     "output_type": "stream",
     "text": [
      "100%|██████████| 250/250 [06:20<00:00,  1.52s/it]\n"
     ]
    },
    {
     "data": {
      "text/plain": [
       "({'mean_mean': 10.92830227448381,\n",
       "  'mean_sd': 0.9387435298564465,\n",
       "  'disp_mean': 5.406593726647138,\n",
       "  'disp_sd': 0.2689502951493133,\n",
       "  'dist': 'negbinom'},\n",
       " array([12.60279769, 12.30014823, 10.46197631, 12.63903016, 10.99029876,\n",
       "        11.22249058, 10.69226513, 12.38574091, 11.14208528, 10.81418936,\n",
       "        12.2529181 , 12.47288785, 11.20078998, 10.32221456, 12.34270589,\n",
       "        10.61938993, 10.77206318, 10.87431967, 11.37356361, 11.01200283,\n",
       "        11.72856641, 10.79026322, 10.57740604, 11.49299402, 11.99672747,\n",
       "        11.25902239, 10.79261461, 12.02441551, 11.60161769, 10.59111587,\n",
       "         9.95126361, 10.42228202, 10.70295163, 10.34967373, 10.97734477,\n",
       "         9.05725156, 11.79436291, 10.92326091, 11.75977328, 12.22687728,\n",
       "        10.27477721, 10.62472945, 11.30381544, 10.96773373, 10.38861634,\n",
       "        10.92832054, 11.63875087, 10.29801906,  9.79438951,  9.77409951,\n",
       "         9.41086777, 10.60815372, 11.1661132 , 11.2674392 ,  9.00814512,\n",
       "         9.33964079,  9.98596125, 10.70877604,  9.89776342,  9.40101699,\n",
       "         9.92037398, 10.5269769 , 10.77029241,  9.06385706, 11.62841512,\n",
       "        10.00820228, 12.03552573, 11.95145684, 10.01074927, 11.62843356,\n",
       "        11.69011638, 10.2941055 , 11.05408034, 11.83722801, 11.33435583,\n",
       "        10.21421599, 11.65807639, 11.18707534, 10.93094928,  7.83132606,\n",
       "        12.70352542,  9.43753725, 11.45758016, 11.49540821, 10.66502224,\n",
       "        11.51817915, 10.21669257, 11.22962748, 11.40039073,  9.29193242,\n",
       "        10.61403589, 10.14721633, 11.12634925, 12.61720546, 11.85872498,\n",
       "        10.15853719, 10.91872459,  9.17633106, 11.62301168, 11.1296714 ,\n",
       "         9.29140472, 13.5693512 , 12.61754607,  9.65955684, 10.39023552,\n",
       "        10.54061132, 12.76147333, 11.22653022,  9.93740865, 11.17928691,\n",
       "        11.04900387,  9.86682977, 12.06198104, 10.87930736, 10.98173735,\n",
       "        11.3040626 ,  9.31645151,  9.10700469, 11.07640961, 11.07267889,\n",
       "        11.39666396, 10.61468116, 11.19293917, 10.01769511, 11.05839039,\n",
       "        10.20960802, 10.48967841, 10.33108279, 10.59293297,  9.42619234,\n",
       "        10.34175461, 11.3084155 , 10.57801752,  9.87112699, 10.88856305,\n",
       "         9.88434862, 10.69117228, 12.08810052, 11.83846036, 12.40796901,\n",
       "        10.47266767, 11.05108867, 11.14383734, 10.29854228,  9.64148167,\n",
       "        10.09874703, 13.13818537, 11.97630087,  9.88249672, 10.97711279,\n",
       "        10.71184919, 10.35327082, 10.75270812, 10.78449762, 13.08951669,\n",
       "        11.48558361, 11.15976494, 11.46949083, 12.64635069, 10.38647229,\n",
       "        10.55793627, 10.78738709, 11.80146298, 10.98275024,  9.44877135,\n",
       "        11.45282283, 11.59892176,  9.5414136 , 11.88093105, 11.51792044,\n",
       "        10.6592393 , 11.66674954, 11.77702918, 11.03603349, 11.74044432,\n",
       "        10.40537799,  9.66811835, 12.27672546, 10.34135791, 10.82431313,\n",
       "        10.06167102,  9.92806364, 11.05595007, 10.93422099, 10.75602888,\n",
       "        10.74626203, 12.81259121, 11.86014431, 12.26741715,  8.96603678,\n",
       "        11.78980326,  9.3718026 , 10.45308463, 12.29746807, 12.7235457 ,\n",
       "        11.52039423, 11.88171067, 11.24039122, 11.31867824, 11.85610403,\n",
       "         9.86106049, 11.07992429, 10.05182342, 10.59798536, 10.80046742,\n",
       "        11.01562044, 10.02810111,  8.75180973, 10.9374125 , 10.60651308,\n",
       "        10.49024533, 11.71025154, 11.05229193, 11.08703177, 10.66599757,\n",
       "        10.6567173 , 10.00838449, 10.96252047,  9.94952323, 10.2117691 ,\n",
       "         9.4434111 , 11.36154409, 12.77498068, 11.46290243,  8.24149165,\n",
       "        10.90837515, 10.7119971 , 10.91654676, 11.75513112, 11.03434018,\n",
       "        11.73538214, 11.52031014,  9.60335541, 11.72191053, 11.47913766,\n",
       "        11.03052928, 11.69413001, 12.18388205, 10.73078499, 10.09590223,\n",
       "        10.09647701, 12.45216303, 10.54825887, 11.35734791, 10.29120928,\n",
       "        10.78334501, 11.67156544, 11.52042226, 11.09529929, 12.22197293]),\n",
       " array([4.92359764, 5.03024765, 5.71597766, 4.9074024 , 5.39611078,\n",
       "        5.38551077, 5.46048055, 5.00499099, 5.1977946 , 5.55861788,\n",
       "        4.97761305, 4.98149782, 5.4095539 , 5.61017116, 5.00082399,\n",
       "        5.57840068, 5.56186741, 5.48332185, 5.46926059, 5.17141793,\n",
       "        5.55684704, 5.67779065, 5.26673679, 5.11061664, 5.18247131,\n",
       "        5.50564137, 5.11059092, 5.50492364, 5.47404438, 5.76048271,\n",
       "        5.37722966, 5.80020769, 5.50157885, 5.38401788, 5.18538702,\n",
       "        5.02680092, 5.819452  , 5.60499282, 5.3474377 , 5.5088738 ,\n",
       "        5.3860742 , 5.45065535, 5.02258345, 5.4291799 , 5.61851244,\n",
       "        5.4062953 , 5.14725833, 5.83228167, 5.60384715, 5.59586456,\n",
       "        5.59603983, 5.13814116, 5.0908886 , 5.11062527, 5.91714032,\n",
       "        5.2434549 , 5.18518652, 5.84693301, 5.46991093, 5.34860084,\n",
       "        5.82109133, 5.2330023 , 5.28553529, 5.50449252, 4.90839284,\n",
       "        5.27567891, 5.27167717, 5.63513648, 5.89075281, 5.34916296,\n",
       "        5.64488934, 5.95464281, 5.360386  , 5.9263054 , 5.49362362,\n",
       "        4.90542427, 5.79309695, 5.71151113, 5.39566578, 5.95842547,\n",
       "        5.47012771, 5.95416165, 5.06506347, 5.34018563, 5.33095664,\n",
       "        5.35888613, 5.32393151, 5.18853778, 5.65498066, 5.4074515 ,\n",
       "        5.67323128, 5.46465372, 5.83098171, 5.3253641 , 5.76999155,\n",
       "        5.52591745, 5.82409752, 5.31720551, 5.32657447, 5.20900397,\n",
       "        5.65970441, 5.60586463, 4.9448332 , 5.01952449, 5.00193751,\n",
       "        5.64884944, 5.30503122, 5.25157766, 5.45222305, 5.8944433 ,\n",
       "        5.08241383, 5.44639078, 5.524529  , 5.64689462, 5.58808967,\n",
       "        5.58963757, 5.24709275, 5.34646961, 5.03353988, 5.62198755,\n",
       "        5.46100414, 5.46460373, 5.17353872, 4.94289592, 5.09636796,\n",
       "        5.24483719, 5.23612885, 5.59817911, 5.17333286, 5.16480166,\n",
       "        5.47650357, 5.18783544, 5.55610412, 5.03054395, 5.76912902,\n",
       "        5.5210015 , 5.88988403, 5.46237119, 5.29601284, 5.6045295 ,\n",
       "        5.60437268, 5.03120953, 5.0358224 , 4.93936658, 5.37908649,\n",
       "        5.01545478, 5.19744979, 5.30632945, 5.32654763, 5.16195317,\n",
       "        5.30143016, 5.4570252 , 5.57135811, 5.43919173, 5.37583222,\n",
       "        5.87156613, 5.50717755, 5.43186912, 5.7411839 , 5.05334148,\n",
       "        5.45209739, 5.33326886, 5.63932111, 5.64332706, 5.78982474,\n",
       "        5.49020522, 5.90452654, 5.31367459, 5.20197276, 5.46190331,\n",
       "        5.42963639, 5.52113754, 5.04069352, 5.47609255, 5.15707983,\n",
       "        5.0055036 , 5.17670456, 5.27627808, 5.3240001 , 5.20731945,\n",
       "        5.59867682, 5.95150649, 5.95091632, 5.64014529, 5.33961824,\n",
       "        5.83096825, 5.41005954, 5.21043941, 5.26999025, 4.91924281,\n",
       "        5.03460951]))"
      ]
     },
     "execution_count": 96,
     "metadata": {},
     "output_type": "execute_result"
    }
   ],
   "source": [
    "bootstrapped_negbinom_values([incubation_period, symptom_reporting])"
   ]
  },
  {
   "cell_type": "code",
   "execution_count": 92,
   "metadata": {},
   "outputs": [
    {
     "name": "stderr",
     "output_type": "stream",
     "text": [
      "100%|██████████| 250/250 [03:15<00:00,  1.28it/s]\n"
     ]
    }
   ],
   "source": [
    "p, ms, disps = bootstrapped_negbinom_values([incubation_period, symptom_deaths], truncation=64)"
   ]
  },
  {
   "cell_type": "code",
   "execution_count": 93,
   "metadata": {},
   "outputs": [
    {
     "data": {
      "text/plain": [
       "{'mean_mean': 21.819649695284962,\n",
       " 'mean_sd': 1.0056755718977664,\n",
       " 'disp_mean': 14.26238141720708,\n",
       " 'disp_sd': 5.177442947725441,\n",
       " 'dist': 'negbinom'}"
      ]
     },
     "execution_count": 93,
     "metadata": {},
     "output_type": "execute_result"
    }
   ],
   "source": [
    "p"
   ]
  },
  {
   "cell_type": "code",
   "execution_count": null,
   "metadata": {},
   "outputs": [],
   "source": []
  }
 ],
 "metadata": {
  "kernelspec": {
   "display_name": "Python 3",
   "language": "python",
   "name": "python3"
  },
  "language_info": {
   "codemirror_mode": {
    "name": "ipython",
    "version": 3
   },
   "file_extension": ".py",
   "mimetype": "text/x-python",
   "name": "python",
   "nbconvert_exporter": "python",
   "pygments_lexer": "ipython3",
   "version": "3.8.3"
  }
 },
 "nbformat": 4,
 "nbformat_minor": 4
}
