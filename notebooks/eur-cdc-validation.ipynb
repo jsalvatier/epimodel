{
 "cells": [
  {
   "cell_type": "code",
   "execution_count": 47,
   "metadata": {},
   "outputs": [],
   "source": [
    "from epimodel.pymc3_models import cm_effect\n",
    "from epimodel.pymc3_models.cm_effect.datapreprocessor import DataPreprocessor, ICLDataPreprocessor\n",
    "import pickle\n",
    "\n",
    "import pandas as pd\n",
    "import numpy as  np\n",
    "import theano \n",
    "import scipy.signal as ss"
   ]
  },
  {
   "cell_type": "code",
   "execution_count": 50,
   "metadata": {},
   "outputs": [
    {
     "name": "stderr",
     "output_type": "stream",
     "text": [
      "INFO:epimodel.pymc3_models.cm_effect.datapreprocessor:Performing Smoothing\n",
      "INFO:epimodel.pymc3_models.cm_effect.datapreprocessor:Skipping smoothing Albania\n",
      "INFO:epimodel.pymc3_models.cm_effect.datapreprocessor:Skipping smoothing Andorra\n",
      "INFO:epimodel.pymc3_models.cm_effect.datapreprocessor:Skipping smoothing Estonia\n",
      "INFO:epimodel.pymc3_models.cm_effect.datapreprocessor:Skipping smoothing Iceland\n",
      "INFO:epimodel.pymc3_models.cm_effect.datapreprocessor:Skipping smoothing Latvia\n",
      "INFO:epimodel.pymc3_models.cm_effect.datapreprocessor:Skipping smoothing Lithuania\n",
      "INFO:epimodel.pymc3_models.cm_effect.datapreprocessor:Skipping smoothing New Zealand\n",
      "INFO:epimodel.pymc3_models.cm_effect.datapreprocessor:Skipping smoothing Singapore\n",
      "INFO:epimodel.pymc3_models.cm_effect.datapreprocessor:Skipping smoothing Slovakia\n",
      "INFO:epimodel.pymc3_models.cm_effect.datapreprocessor:Performing Masking\n"
     ]
    }
   ],
   "source": [
    "region_info = [\n",
    "    (\"Andorra\", \"AD\", \"AND\"),\n",
    "    (\"Austria\", \"AT\", \"AUT\"),\n",
    "    (\"Albania\", \"AL\", \"ALB\"),\n",
    "    (\"Bosnia and Herzegovina\", \"BA\", \"BIH\"),\n",
    "    (\"Belgium\", \"BE\", \"BEL\"),\n",
    "    (\"Bulgaria\", \"BG\", \"BGR\"),\n",
    "    (\"Switzerland\", \"CH\", \"CHE\"),\n",
    "    (\"Czech Republic\", \"CZ\", \"CZE\"),\n",
    "    (\"Germany\", \"DE\", \"DEU\"),\n",
    "    (\"Denmark\", \"DK\", \"DNK\"),\n",
    "    (\"Estonia\", \"EE\", \"EST\"),\n",
    "    (\"Spain\", \"ES\", \"ESP\"),\n",
    "    (\"Finland\", \"FI\", \"FIN\"),\n",
    "    (\"France\", \"FR\", \"FRA\"),\n",
    "    (\"United Kingdom\", \"GB\", \"GBR\"),\n",
    "    (\"Georgia\", \"GE\", \"GEO\"),\n",
    "    (\"Greece\", \"GR\", \"GRC\"),\n",
    "    (\"Croatia\", \"HR\", \"HRV\"),\n",
    "    (\"Hungary\", \"HU\", \"HUN\"),\n",
    "    (\"Ireland\", \"IE\", \"IRL\"),\n",
    "    (\"Israel\", \"IL\", \"ISR\"),\n",
    "    (\"Iceland\", \"IS\", \"ISL\"),\n",
    "    (\"Italy\", \"IT\", \"ITA\"),\n",
    "    (\"Lithuania\", \"LT\", \"LTU\"),\n",
    "    (\"Latvia\", \"LV\", \"LVA\"),\n",
    "    (\"Malta\", \"MT\", \"MLT\"),\n",
    "    (\"Morocco\", \"MA\", \"MAR\"),\n",
    "    (\"Mexico\", \"MX\", \"MEX\"),\n",
    "    (\"Malaysia\", \"MY\", \"MYS\"),\n",
    "    (\"Netherlands\", \"NL\", \"NLD\"),\n",
    "    (\"Norway\", \"NO\", \"NOR\"),\n",
    "    (\"New Zealand\", \"NZ\", \"NZL\"),\n",
    "    (\"Poland\", \"PL\", \"POL\"),\n",
    "    (\"Portugal\", \"PT\", \"PRT\"),\n",
    "    (\"Romania\", \"RO\", \"ROU\"),\n",
    "    (\"Serbia\", \"RS\", \"SRB\"),\n",
    "    (\"Sweden\", \"SE\", \"SWE\"),\n",
    "    (\"Singapore\", \"SG\", \"SGP\"),\n",
    "    (\"Slovenia\", \"SI\", \"SVN\"),\n",
    "    (\"Slovakia\", \"SK\", \"SVK\"),\n",
    "    (\"South Africa\", \"ZA\", \"ZAF\"),\n",
    "]\n",
    "\n",
    "region_info.sort(key=lambda x: x[0])\n",
    "region_names = list([x for x, _, _ in region_info])\n",
    "regions_epi = list([x for _, x, _ in region_info])\n",
    "regions_threecode = list([x for _, _, x in region_info])\n",
    "\n",
    "\n",
    "def eur_to_epi_code(x):\n",
    "    if x in regions_threecode:\n",
    "        return regions_epi[regions_threecode.index(x)]\n",
    "    else:\n",
    "        return \"not found\"\n",
    "\n",
    "\n",
    "\n",
    "\n",
    "def process_euro_data(path, regular_data_path, ICL_data_path):\n",
    "    \n",
    "    dp = ICLDataPreprocessor()\n",
    "    data = dp.preprocess_data(regular_data_path, ICL_data_path)\n",
    "\n",
    "\n",
    "    \n",
    "    \n",
    "    eur_df = pd.read_csv(path, parse_dates=[\"dateRep\"], infer_datetime_format=True)\n",
    "    eur_df['dateRep'] = pd.to_datetime(eur_df['dateRep'], utc=True)\n",
    "    epi_codes = [eur_to_epi_code(cc) for cc in eur_df[\"countryterritoryCode\"]]\n",
    "    dti = pd.to_datetime(eur_df['dateRep'], utc=True)\n",
    "\n",
    "    eur_df.index = pd.MultiIndex.from_arrays([epi_codes, dti])\n",
    "\n",
    "    columns_to_drop = [\"day\", \"month\", \"year\", \"countriesAndTerritories\", \"geoId\", \"popData2018\", \"continentExp\",\n",
    "                       \"dateRep\", \"countryterritoryCode\"]\n",
    "\n",
    "    for col in columns_to_drop:\n",
    "        del eur_df[col]\n",
    "\n",
    "    eur_df = eur_df.loc[regions_epi]\n",
    "\n",
    "    NewCases = np.zeros((len(data.Rs), len(data.Ds)))\n",
    "    NewDeaths = np.zeros((len(data.Rs), len(data.Ds)))\n",
    "\n",
    "    for r_i, r in enumerate(data.Rs):\n",
    "        for d_i, d in enumerate(data.Ds):\n",
    "            c_vals = eur_df.loc[r]\n",
    "            if d in c_vals.index:\n",
    "                NewCases[r_i, d_i] = c_vals[\"cases\"].loc[d]\n",
    "                NewDeaths[r_i, d_i] = c_vals[\"deaths\"].loc[d]\n",
    "\n",
    "    \n",
    "\n",
    "    SmoothedNewCases = np.around(\n",
    "        ss.convolve2d(NewCases, 1 / dp.N_smooth * np.ones(shape=(1, dp.N_smooth)), boundary=\"symm\",\n",
    "                      mode=\"same\"))\n",
    "    SmoothedNewDeaths = np.around(\n",
    "        ss.convolve2d(NewDeaths, 1 / dp.N_smooth * np.ones(shape=(1, dp.N_smooth)), boundary=\"symm\",\n",
    "                      mode=\"same\"))\n",
    "    \n",
    "    NewCases = SmoothedNewCases\n",
    "    NewDeaths = SmoothedNewDeaths\n",
    "    NewDeaths[NewDeaths < 0] = np.nan\n",
    "    NewCases[NewCases < 0] = np.nan\n",
    "    data.NewCases = np.ma.masked_invalid(NewCases.astype(theano.config.floatX))\n",
    "    data.NewDeaths = np.ma.masked_invalid(NewDeaths.astype(theano.config.floatX))\n",
    "    \n",
    "    \n",
    "\n",
    "\n",
    "    return data\n",
    "\n",
    "eur_data = process_euro_data(\"final_data/eur_data.csv\", \"final_data/data_final.csv\", \"final_data/ICL.csv\")"
   ]
  },
  {
   "cell_type": "code",
   "execution_count": null,
   "metadata": {},
   "outputs": [],
   "source": [
    "dp = DataPreprocessor()\n",
    "jh_data = dp.preprocess_data(\"final_data/data_final.csv\")\n"
   ]
  },
  {
   "cell_type": "code",
   "execution_count": null,
   "metadata": {},
   "outputs": [],
   "source": [
    "\n",
    "jhRs = [ jh_data.Rs.index(r) for r in eur_data.Rs]"
   ]
  },
  {
   "cell_type": "code",
   "execution_count": 69,
   "metadata": {},
   "outputs": [
    {
     "data": {
      "text/plain": [
       "<matplotlib.legend.Legend at 0x126664820>"
      ]
     },
     "execution_count": 69,
     "metadata": {},
     "output_type": "execute_result"
    },
    {
     "data": {
      "image/png": "[encoded data removed]",
      "text/plain": [
       "<Figure size 1080x720 with 1 Axes>"
      ]
     },
     "metadata": {},
     "output_type": "display_data"
    }
   ],
   "source": [
    "import matplotlib.pylab as plt\n",
    "\n",
    "plt.figure(figsize=(15,10))\n",
    "\n",
    "jh  = jh_data.NewDeaths[jhRs[:],:]\n",
    "eur = eur_data.NewDeaths[:,:]\n",
    "r = eur_data.Rs[:]\n",
    "\n",
    "plt.plot(eur.T, jh.T, '.') ;\n",
    "plt.legend(r)"
   ]
  },
  {
   "cell_type": "code",
   "execution_count": 34,
   "metadata": {},
   "outputs": [
    {
     "data": {
      "text/plain": [
       "(41, 95)"
      ]
     },
     "execution_count": 34,
     "metadata": {},
     "output_type": "execute_result"
    }
   ],
   "source": [
    "jh_data.NewCases.shape"
   ]
  },
  {
   "cell_type": "code",
   "execution_count": 35,
   "metadata": {},
   "outputs": [
    {
     "data": {
      "text/plain": [
       "(14, 95)"
      ]
     },
     "execution_count": 35,
     "metadata": {},
     "output_type": "execute_result"
    }
   ],
   "source": [
    "eur_data.NewCases.shape"
   ]
  },
  {
   "cell_type": "code",
   "execution_count": 70,
   "metadata": {},
   "outputs": [
    {
     "data": {
      "text/plain": [
       "['AT',\n",
       " 'BE',\n",
       " 'DK',\n",
       " 'FR',\n",
       " 'DE',\n",
       " 'IT',\n",
       " 'NO',\n",
       " 'ES',\n",
       " 'SE',\n",
       " 'CH',\n",
       " 'GB',\n",
       " 'GR',\n",
       " 'PT',\n",
       " 'NL']"
      ]
     },
     "execution_count": 70,
     "metadata": {},
     "output_type": "execute_result"
    }
   ],
   "source": [
    "eur_data.Rs"
   ]
  },
  {
   "cell_type": "code",
   "execution_count": null,
   "metadata": {},
   "outputs": [],
   "source": []
  }
 ],
 "metadata": {
  "kernelspec": {
   "display_name": "Python 3",
   "language": "python",
   "name": "python3"
  },
  "language_info": {
   "codemirror_mode": {
    "name": "ipython",
    "version": 3
   },
   "file_extension": ".py",
   "mimetype": "text/x-python",
   "name": "python",
   "nbconvert_exporter": "python",
   "pygments_lexer": "ipython3",
   "version": "3.8.2"
  }
 },
 "nbformat": 4,
 "nbformat_minor": 4
}
